{
  "nbformat": 4,
  "nbformat_minor": 0,
  "metadata": {
    "colab": {
      "provenance": [],
      "authorship_tag": "ABX9TyPYN97Vjw2jiIwuNILy92h5",
      "include_colab_link": true
    },
    "kernelspec": {
      "name": "python3",
      "display_name": "Python 3"
    },
    "language_info": {
      "name": "python"
    }
  },
  "cells": [
    {
      "cell_type": "markdown",
      "metadata": {
        "id": "view-in-github",
        "colab_type": "text"
      },
      "source": [
        "<a href=\"https://colab.research.google.com/github/omardrho/youtubeChannelCrawling/blob/main/youtubeVideoCrawling.ipynb\" target=\"_parent\"><img src=\"https://colab.research.google.com/assets/colab-badge.svg\" alt=\"Open In Colab\"/></a>"
      ]
    },
    {
      "cell_type": "code",
      "execution_count": 179,
      "metadata": {
        "colab": {
          "base_uri": "https://localhost:8080/"
        },
        "id": "Aw79EDbupuDd",
        "outputId": "cbd4fc09-1977-4bd3-cc72-4ffddf7a8b52"
      },
      "outputs": [
        {
          "output_type": "stream",
          "name": "stdout",
          "text": [
            "Requirement already satisfied: google-api-python-client in /usr/local/lib/python3.10/dist-packages (2.84.0)\n",
            "Requirement already satisfied: pandas in /usr/local/lib/python3.10/dist-packages (1.5.3)\n",
            "Requirement already satisfied: httplib2<1dev,>=0.15.0 in /usr/local/lib/python3.10/dist-packages (from google-api-python-client) (0.21.0)\n",
            "Requirement already satisfied: google-auth<3.0.0dev,>=1.19.0 in /usr/local/lib/python3.10/dist-packages (from google-api-python-client) (2.17.3)\n",
            "Requirement already satisfied: google-auth-httplib2>=0.1.0 in /usr/local/lib/python3.10/dist-packages (from google-api-python-client) (0.1.0)\n",
            "Requirement already satisfied: google-api-core!=2.0.*,!=2.1.*,!=2.2.*,!=2.3.0,<3.0.0dev,>=1.31.5 in /usr/local/lib/python3.10/dist-packages (from google-api-python-client) (2.11.1)\n",
            "Requirement already satisfied: uritemplate<5,>=3.0.1 in /usr/local/lib/python3.10/dist-packages (from google-api-python-client) (4.1.1)\n",
            "Requirement already satisfied: python-dateutil>=2.8.1 in /usr/local/lib/python3.10/dist-packages (from pandas) (2.8.2)\n",
            "Requirement already satisfied: pytz>=2020.1 in /usr/local/lib/python3.10/dist-packages (from pandas) (2022.7.1)\n",
            "Requirement already satisfied: numpy>=1.21.0 in /usr/local/lib/python3.10/dist-packages (from pandas) (1.22.4)\n",
            "Requirement already satisfied: googleapis-common-protos<2.0.dev0,>=1.56.2 in /usr/local/lib/python3.10/dist-packages (from google-api-core!=2.0.*,!=2.1.*,!=2.2.*,!=2.3.0,<3.0.0dev,>=1.31.5->google-api-python-client) (1.59.1)\n",
            "Requirement already satisfied: protobuf!=3.20.0,!=3.20.1,!=4.21.0,!=4.21.1,!=4.21.2,!=4.21.3,!=4.21.4,!=4.21.5,<5.0.0.dev0,>=3.19.5 in /usr/local/lib/python3.10/dist-packages (from google-api-core!=2.0.*,!=2.1.*,!=2.2.*,!=2.3.0,<3.0.0dev,>=1.31.5->google-api-python-client) (3.20.3)\n",
            "Requirement already satisfied: requests<3.0.0.dev0,>=2.18.0 in /usr/local/lib/python3.10/dist-packages (from google-api-core!=2.0.*,!=2.1.*,!=2.2.*,!=2.3.0,<3.0.0dev,>=1.31.5->google-api-python-client) (2.27.1)\n",
            "Requirement already satisfied: cachetools<6.0,>=2.0.0 in /usr/local/lib/python3.10/dist-packages (from google-auth<3.0.0dev,>=1.19.0->google-api-python-client) (5.3.1)\n",
            "Requirement already satisfied: pyasn1-modules>=0.2.1 in /usr/local/lib/python3.10/dist-packages (from google-auth<3.0.0dev,>=1.19.0->google-api-python-client) (0.3.0)\n",
            "Requirement already satisfied: six>=1.9.0 in /usr/local/lib/python3.10/dist-packages (from google-auth<3.0.0dev,>=1.19.0->google-api-python-client) (1.16.0)\n",
            "Requirement already satisfied: rsa<5,>=3.1.4 in /usr/local/lib/python3.10/dist-packages (from google-auth<3.0.0dev,>=1.19.0->google-api-python-client) (4.9)\n",
            "Requirement already satisfied: pyparsing!=3.0.0,!=3.0.1,!=3.0.2,!=3.0.3,<4,>=2.4.2 in /usr/local/lib/python3.10/dist-packages (from httplib2<1dev,>=0.15.0->google-api-python-client) (3.1.0)\n",
            "Requirement already satisfied: pyasn1<0.6.0,>=0.4.6 in /usr/local/lib/python3.10/dist-packages (from pyasn1-modules>=0.2.1->google-auth<3.0.0dev,>=1.19.0->google-api-python-client) (0.5.0)\n",
            "Requirement already satisfied: urllib3<1.27,>=1.21.1 in /usr/local/lib/python3.10/dist-packages (from requests<3.0.0.dev0,>=2.18.0->google-api-core!=2.0.*,!=2.1.*,!=2.2.*,!=2.3.0,<3.0.0dev,>=1.31.5->google-api-python-client) (1.26.16)\n",
            "Requirement already satisfied: certifi>=2017.4.17 in /usr/local/lib/python3.10/dist-packages (from requests<3.0.0.dev0,>=2.18.0->google-api-core!=2.0.*,!=2.1.*,!=2.2.*,!=2.3.0,<3.0.0dev,>=1.31.5->google-api-python-client) (2023.5.7)\n",
            "Requirement already satisfied: charset-normalizer~=2.0.0 in /usr/local/lib/python3.10/dist-packages (from requests<3.0.0.dev0,>=2.18.0->google-api-core!=2.0.*,!=2.1.*,!=2.2.*,!=2.3.0,<3.0.0dev,>=1.31.5->google-api-python-client) (2.0.12)\n",
            "Requirement already satisfied: idna<4,>=2.5 in /usr/local/lib/python3.10/dist-packages (from requests<3.0.0.dev0,>=2.18.0->google-api-core!=2.0.*,!=2.1.*,!=2.2.*,!=2.3.0,<3.0.0dev,>=1.31.5->google-api-python-client) (3.4)\n"
          ]
        }
      ],
      "source": [
        "!pip install google-api-python-client pandas\n",
        "from datetime import datetime\n",
        "from googleapiclient.discovery import build\n",
        "import pandas as pd"
      ]
    },
    {
      "cell_type": "code",
      "source": [
        "api_key = '***private***'\n",
        "youtube = build('youtube', 'v3', developerKey=api_key)"
      ],
      "metadata": {
        "id": "I6EKo-mwp8aM"
      },
      "execution_count": 180,
      "outputs": []
    },
    {
      "cell_type": "code",
      "source": [
        "channel_id = 'UC8butISFwT-Wl7EV0hUK0BQ'\n",
        "part = 'snippet,statistics'"
      ],
      "metadata": {
        "id": "hFFt-PYFqI87"
      },
      "execution_count": 181,
      "outputs": []
    },
    {
      "cell_type": "code",
      "source": [
        "search_params = {\n",
        "    'type': 'video',\n",
        "    'part': 'id,snippet',\n",
        "    'maxResults': 5,\n",
        "    'order': 'date',\n",
        "    'channelId' : channel_id\n",
        "}"
      ],
      "metadata": {
        "id": "bWZ3R-GAI1NQ"
      },
      "execution_count": 182,
      "outputs": []
    },
    {
      "cell_type": "code",
      "source": [
        "response = youtube.search().list(**search_params).execute()\n",
        "video_ids = [item['id']['videoId'] for item in response['items']]"
      ],
      "metadata": {
        "id": "6fc4mKKtqRef"
      },
      "execution_count": 183,
      "outputs": []
    },
    {
      "cell_type": "code",
      "source": [
        "response = youtube.videos().list(\n",
        "    part=part,\n",
        "    id=','.join(video_ids)\n",
        ").execute()"
      ],
      "metadata": {
        "id": "H-nFraJjqsPb"
      },
      "execution_count": 184,
      "outputs": []
    },
    {
      "cell_type": "code",
      "source": [
        "data = []\n",
        "for item in sorted(response['items'], key=lambda x: x['snippet']['publishedAt'], reverse=True):\n",
        "    video_data = {\n",
        "        'Title': item['snippet']['title'],\n",
        "        'url': f\"https://www.youtube.com/watch?v={item['id']}\",\n",
        "        'Description': item['snippet']['description'],\n",
        "        'View Count': item['statistics']['viewCount'],\n",
        "        'Likes' :item['statistics']['likeCount'],\n",
        "        'Published At': item['snippet']['publishedAt'],\n",
        "    }\n",
        "    data.append(video_data)\n",
        "items=sorted(response['items'], key=lambda x: x['snippet']['publishedAt'], reverse=True)\n",
        "relative_last=items[0]['snippet']['publishedAt']\n",
        "print(relative_last)\n",
        "\n",
        "df = pd.DataFrame(data)"
      ],
      "metadata": {
        "colab": {
          "base_uri": "https://localhost:8080/"
        },
        "id": "VbEHJv4Sq0WM",
        "outputId": "54549ef1-5d2d-4469-cf77-80dfc86aeb76"
      },
      "execution_count": 185,
      "outputs": [
        {
          "output_type": "stream",
          "name": "stdout",
          "text": [
            "2023-07-11T13:04:38Z\n"
          ]
        }
      ]
    },
    {
      "cell_type": "code",
      "source": [
        "df"
      ],
      "metadata": {
        "colab": {
          "base_uri": "https://localhost:8080/",
          "height": 354
        },
        "id": "T-jTs7BceiH1",
        "outputId": "33ca8c64-7a1f-4eea-f5ba-2b44ff173fb8"
      },
      "execution_count": 186,
      "outputs": [
        {
          "output_type": "execute_result",
          "data": {
            "text/plain": [
              "                                               Title  \\\n",
              "0  Learn Terraform with Google Cloud Platform – I...   \n",
              "1  Create a Programming Language and Learn Advanc...   \n",
              "2  Hot Dog or Not Hot Dog – Convolutional Neural ...   \n",
              "3                     Advanced C# Programming Course   \n",
              "4  Pandas & Python for Data Analysis by Example –...   \n",
              "\n",
              "                                           url  \\\n",
              "0  https://www.youtube.com/watch?v=VCayKl82Lt8   \n",
              "1  https://www.youtube.com/watch?v=1WpKsY9LBlY   \n",
              "2  https://www.youtube.com/watch?v=nVhau51w6dM   \n",
              "3  https://www.youtube.com/watch?v=YT8s-90oDC0   \n",
              "4  https://www.youtube.com/watch?v=gtjxAH8uaP0   \n",
              "\n",
              "                                         Description View Count Likes  \\\n",
              "0  Learn how to use Terraform and Infrastructure ...      10700   447   \n",
              "1  Make your own programming language while learn...      56118  2247   \n",
              "2  Learn about Convolutional Neural Networks in t...      38667  1312   \n",
              "3  Learn advanced C# programming concepts. This c...      93071  3813   \n",
              "4  Learn how to use Pandas and Python for Data An...      67784  2365   \n",
              "\n",
              "           Published At  \n",
              "0  2023-07-11T13:04:38Z  \n",
              "1  2023-07-06T14:17:31Z  \n",
              "2  2023-07-03T14:51:42Z  \n",
              "3  2023-06-27T13:29:30Z  \n",
              "4  2023-06-21T14:28:53Z  "
            ],
            "text/html": [
              "\n",
              "\n",
              "  <div id=\"df-d84c196f-8eae-4e85-9480-1cf5406644b0\">\n",
              "    <div class=\"colab-df-container\">\n",
              "      <div>\n",
              "<style scoped>\n",
              "    .dataframe tbody tr th:only-of-type {\n",
              "        vertical-align: middle;\n",
              "    }\n",
              "\n",
              "    .dataframe tbody tr th {\n",
              "        vertical-align: top;\n",
              "    }\n",
              "\n",
              "    .dataframe thead th {\n",
              "        text-align: right;\n",
              "    }\n",
              "</style>\n",
              "<table border=\"1\" class=\"dataframe\">\n",
              "  <thead>\n",
              "    <tr style=\"text-align: right;\">\n",
              "      <th></th>\n",
              "      <th>Title</th>\n",
              "      <th>url</th>\n",
              "      <th>Description</th>\n",
              "      <th>View Count</th>\n",
              "      <th>Likes</th>\n",
              "      <th>Published At</th>\n",
              "    </tr>\n",
              "  </thead>\n",
              "  <tbody>\n",
              "    <tr>\n",
              "      <th>0</th>\n",
              "      <td>Learn Terraform with Google Cloud Platform – I...</td>\n",
              "      <td>https://www.youtube.com/watch?v=VCayKl82Lt8</td>\n",
              "      <td>Learn how to use Terraform and Infrastructure ...</td>\n",
              "      <td>10700</td>\n",
              "      <td>447</td>\n",
              "      <td>2023-07-11T13:04:38Z</td>\n",
              "    </tr>\n",
              "    <tr>\n",
              "      <th>1</th>\n",
              "      <td>Create a Programming Language and Learn Advanc...</td>\n",
              "      <td>https://www.youtube.com/watch?v=1WpKsY9LBlY</td>\n",
              "      <td>Make your own programming language while learn...</td>\n",
              "      <td>56118</td>\n",
              "      <td>2247</td>\n",
              "      <td>2023-07-06T14:17:31Z</td>\n",
              "    </tr>\n",
              "    <tr>\n",
              "      <th>2</th>\n",
              "      <td>Hot Dog or Not Hot Dog – Convolutional Neural ...</td>\n",
              "      <td>https://www.youtube.com/watch?v=nVhau51w6dM</td>\n",
              "      <td>Learn about Convolutional Neural Networks in t...</td>\n",
              "      <td>38667</td>\n",
              "      <td>1312</td>\n",
              "      <td>2023-07-03T14:51:42Z</td>\n",
              "    </tr>\n",
              "    <tr>\n",
              "      <th>3</th>\n",
              "      <td>Advanced C# Programming Course</td>\n",
              "      <td>https://www.youtube.com/watch?v=YT8s-90oDC0</td>\n",
              "      <td>Learn advanced C# programming concepts. This c...</td>\n",
              "      <td>93071</td>\n",
              "      <td>3813</td>\n",
              "      <td>2023-06-27T13:29:30Z</td>\n",
              "    </tr>\n",
              "    <tr>\n",
              "      <th>4</th>\n",
              "      <td>Pandas &amp; Python for Data Analysis by Example –...</td>\n",
              "      <td>https://www.youtube.com/watch?v=gtjxAH8uaP0</td>\n",
              "      <td>Learn how to use Pandas and Python for Data An...</td>\n",
              "      <td>67784</td>\n",
              "      <td>2365</td>\n",
              "      <td>2023-06-21T14:28:53Z</td>\n",
              "    </tr>\n",
              "  </tbody>\n",
              "</table>\n",
              "</div>\n",
              "      <button class=\"colab-df-convert\" onclick=\"convertToInteractive('df-d84c196f-8eae-4e85-9480-1cf5406644b0')\"\n",
              "              title=\"Convert this dataframe to an interactive table.\"\n",
              "              style=\"display:none;\">\n",
              "\n",
              "  <svg xmlns=\"http://www.w3.org/2000/svg\" height=\"24px\"viewBox=\"0 0 24 24\"\n",
              "       width=\"24px\">\n",
              "    <path d=\"M0 0h24v24H0V0z\" fill=\"none\"/>\n",
              "    <path d=\"M18.56 5.44l.94 2.06.94-2.06 2.06-.94-2.06-.94-.94-2.06-.94 2.06-2.06.94zm-11 1L8.5 8.5l.94-2.06 2.06-.94-2.06-.94L8.5 2.5l-.94 2.06-2.06.94zm10 10l.94 2.06.94-2.06 2.06-.94-2.06-.94-.94-2.06-.94 2.06-2.06.94z\"/><path d=\"M17.41 7.96l-1.37-1.37c-.4-.4-.92-.59-1.43-.59-.52 0-1.04.2-1.43.59L10.3 9.45l-7.72 7.72c-.78.78-.78 2.05 0 2.83L4 21.41c.39.39.9.59 1.41.59.51 0 1.02-.2 1.41-.59l7.78-7.78 2.81-2.81c.8-.78.8-2.07 0-2.86zM5.41 20L4 18.59l7.72-7.72 1.47 1.35L5.41 20z\"/>\n",
              "  </svg>\n",
              "      </button>\n",
              "\n",
              "\n",
              "\n",
              "    <div id=\"df-33a52d94-130f-48bb-8416-493cb933bfa5\">\n",
              "      <button class=\"colab-df-quickchart\" onclick=\"quickchart('df-33a52d94-130f-48bb-8416-493cb933bfa5')\"\n",
              "              title=\"Suggest charts.\"\n",
              "              style=\"display:none;\">\n",
              "\n",
              "<svg xmlns=\"http://www.w3.org/2000/svg\" height=\"24px\"viewBox=\"0 0 24 24\"\n",
              "     width=\"24px\">\n",
              "    <g>\n",
              "        <path d=\"M19 3H5c-1.1 0-2 .9-2 2v14c0 1.1.9 2 2 2h14c1.1 0 2-.9 2-2V5c0-1.1-.9-2-2-2zM9 17H7v-7h2v7zm4 0h-2V7h2v10zm4 0h-2v-4h2v4z\"/>\n",
              "    </g>\n",
              "</svg>\n",
              "      </button>\n",
              "    </div>\n",
              "\n",
              "<style>\n",
              "  .colab-df-quickchart {\n",
              "    background-color: #E8F0FE;\n",
              "    border: none;\n",
              "    border-radius: 50%;\n",
              "    cursor: pointer;\n",
              "    display: none;\n",
              "    fill: #1967D2;\n",
              "    height: 32px;\n",
              "    padding: 0 0 0 0;\n",
              "    width: 32px;\n",
              "  }\n",
              "\n",
              "  .colab-df-quickchart:hover {\n",
              "    background-color: #E2EBFA;\n",
              "    box-shadow: 0px 1px 2px rgba(60, 64, 67, 0.3), 0px 1px 3px 1px rgba(60, 64, 67, 0.15);\n",
              "    fill: #174EA6;\n",
              "  }\n",
              "\n",
              "  [theme=dark] .colab-df-quickchart {\n",
              "    background-color: #3B4455;\n",
              "    fill: #D2E3FC;\n",
              "  }\n",
              "\n",
              "  [theme=dark] .colab-df-quickchart:hover {\n",
              "    background-color: #434B5C;\n",
              "    box-shadow: 0px 1px 3px 1px rgba(0, 0, 0, 0.15);\n",
              "    filter: drop-shadow(0px 1px 2px rgba(0, 0, 0, 0.3));\n",
              "    fill: #FFFFFF;\n",
              "  }\n",
              "</style>\n",
              "\n",
              "    <script>\n",
              "      async function quickchart(key) {\n",
              "        const containerElement = document.querySelector('#' + key);\n",
              "        const charts = await google.colab.kernel.invokeFunction(\n",
              "            'suggestCharts', [key], {});\n",
              "      }\n",
              "    </script>\n",
              "\n",
              "      <script>\n",
              "\n",
              "function displayQuickchartButton(domScope) {\n",
              "  let quickchartButtonEl =\n",
              "    domScope.querySelector('#df-33a52d94-130f-48bb-8416-493cb933bfa5 button.colab-df-quickchart');\n",
              "  quickchartButtonEl.style.display =\n",
              "    google.colab.kernel.accessAllowed ? 'block' : 'none';\n",
              "}\n",
              "\n",
              "        displayQuickchartButton(document);\n",
              "      </script>\n",
              "      <style>\n",
              "    .colab-df-container {\n",
              "      display:flex;\n",
              "      flex-wrap:wrap;\n",
              "      gap: 12px;\n",
              "    }\n",
              "\n",
              "    .colab-df-convert {\n",
              "      background-color: #E8F0FE;\n",
              "      border: none;\n",
              "      border-radius: 50%;\n",
              "      cursor: pointer;\n",
              "      display: none;\n",
              "      fill: #1967D2;\n",
              "      height: 32px;\n",
              "      padding: 0 0 0 0;\n",
              "      width: 32px;\n",
              "    }\n",
              "\n",
              "    .colab-df-convert:hover {\n",
              "      background-color: #E2EBFA;\n",
              "      box-shadow: 0px 1px 2px rgba(60, 64, 67, 0.3), 0px 1px 3px 1px rgba(60, 64, 67, 0.15);\n",
              "      fill: #174EA6;\n",
              "    }\n",
              "\n",
              "    [theme=dark] .colab-df-convert {\n",
              "      background-color: #3B4455;\n",
              "      fill: #D2E3FC;\n",
              "    }\n",
              "\n",
              "    [theme=dark] .colab-df-convert:hover {\n",
              "      background-color: #434B5C;\n",
              "      box-shadow: 0px 1px 3px 1px rgba(0, 0, 0, 0.15);\n",
              "      filter: drop-shadow(0px 1px 2px rgba(0, 0, 0, 0.3));\n",
              "      fill: #FFFFFF;\n",
              "    }\n",
              "  </style>\n",
              "\n",
              "      <script>\n",
              "        const buttonEl =\n",
              "          document.querySelector('#df-d84c196f-8eae-4e85-9480-1cf5406644b0 button.colab-df-convert');\n",
              "        buttonEl.style.display =\n",
              "          google.colab.kernel.accessAllowed ? 'block' : 'none';\n",
              "\n",
              "        async function convertToInteractive(key) {\n",
              "          const element = document.querySelector('#df-d84c196f-8eae-4e85-9480-1cf5406644b0');\n",
              "          const dataTable =\n",
              "            await google.colab.kernel.invokeFunction('convertToInteractive',\n",
              "                                                     [key], {});\n",
              "          if (!dataTable) return;\n",
              "\n",
              "          const docLinkHtml = 'Like what you see? Visit the ' +\n",
              "            '<a target=\"_blank\" href=https://colab.research.google.com/notebooks/data_table.ipynb>data table notebook</a>'\n",
              "            + ' to learn more about interactive tables.';\n",
              "          element.innerHTML = '';\n",
              "          dataTable['output_type'] = 'display_data';\n",
              "          await google.colab.output.renderOutput(dataTable, element);\n",
              "          const docLink = document.createElement('div');\n",
              "          docLink.innerHTML = docLinkHtml;\n",
              "          element.appendChild(docLink);\n",
              "        }\n",
              "      </script>\n",
              "    </div>\n",
              "  </div>\n"
            ]
          },
          "metadata": {},
          "execution_count": 186
        }
      ]
    },
    {
      "cell_type": "code",
      "source": [
        "df=df = df.iloc[1:, :]\n",
        "relative_last=df.iloc[0, -1]"
      ],
      "metadata": {
        "id": "lnOZKDcDXscl"
      },
      "execution_count": 187,
      "outputs": []
    },
    {
      "cell_type": "code",
      "source": [
        "t=df.iloc[0, -1]"
      ],
      "metadata": {
        "id": "cr4TXsbnQ1kg"
      },
      "execution_count": 188,
      "outputs": []
    },
    {
      "cell_type": "code",
      "source": [
        "# date_string = t=df.iloc[0, -1]\n",
        "# date_format = \"%Y-%m-%dT%H:%M:%SZ\"\n",
        "# date_time_obj = datetime.strptime(date_string, date_format)\n",
        "# print(date_time_obj)"
      ],
      "metadata": {
        "id": "2dSnNlGn4PYd"
      },
      "execution_count": 189,
      "outputs": []
    },
    {
      "cell_type": "code",
      "source": [
        "# df.to_csv('output.csv', index=False)"
      ],
      "metadata": {
        "id": "iFFy54carH7X"
      },
      "execution_count": 190,
      "outputs": []
    },
    {
      "cell_type": "markdown",
      "source": [
        "-After the first crawl,we need to update search params so that we wont retrieve already existing  metadata"
      ],
      "metadata": {
        "id": "lW_9DHPtjtTu"
      }
    },
    {
      "cell_type": "code",
      "source": [
        "search_params_after = {\n",
        "    'type': 'video',\n",
        "    'part': 'id,snippet',\n",
        "    'maxResults': 5,\n",
        "    'order': 'date',\n",
        "    'channelId' : channel_id,\n",
        "    'publishedAfter': t,\n",
        "}"
      ],
      "metadata": {
        "id": "4W3VlyM72app"
      },
      "execution_count": 193,
      "outputs": []
    },
    {
      "cell_type": "code",
      "source": [
        "response_after = youtube.search().list(**search_params_after).execute()\n",
        "video_ids = [item['id']['videoId'] for item in response_after['items']]\n",
        "response_after = youtube.videos().list(\n",
        "    part=part,\n",
        "    id=','.join(video_ids)\n",
        ").execute()"
      ],
      "metadata": {
        "id": "ae9mo8hnVHD1"
      },
      "execution_count": 194,
      "outputs": []
    },
    {
      "cell_type": "code",
      "source": [
        "\n",
        "for item in sorted(response_after['items'], key=lambda x: x['snippet']['publishedAt'], reverse=True):\n",
        "    video_data = {\n",
        "        'Title': item['snippet']['title'],\n",
        "        'url': f\"https://www.youtube.com/watch?v={item['id']}\",\n",
        "        'Description': item['snippet']['description'],\n",
        "        'View Count': item['statistics']['viewCount'],\n",
        "        'Likes' :item['statistics']['likeCount'],\n",
        "        'Published At': item['snippet']['publishedAt'],\n",
        "    }\n",
        "    data.append(video_data)\n",
        "items=sorted(response_after['items'], key=lambda x: x['snippet']['publishedAt'], reverse=True)\n",
        "relative_last_temp=items[0]['snippet']['publishedAt']\n"
      ],
      "metadata": {
        "id": "ZkcqsBB0U3Ue"
      },
      "execution_count": 195,
      "outputs": []
    },
    {
      "cell_type": "code",
      "source": [
        "relative_last_temp"
      ],
      "metadata": {
        "colab": {
          "base_uri": "https://localhost:8080/",
          "height": 35
        },
        "id": "ckBtaBB_hHk7",
        "outputId": "a567482f-74d5-49d7-dfda-de5d293d436c"
      },
      "execution_count": 196,
      "outputs": [
        {
          "output_type": "execute_result",
          "data": {
            "text/plain": [
              "'2023-07-11T13:04:38Z'"
            ],
            "application/vnd.google.colaboratory.intrinsic+json": {
              "type": "string"
            }
          },
          "metadata": {},
          "execution_count": 196
        }
      ]
    },
    {
      "cell_type": "code",
      "source": [
        "relative_last"
      ],
      "metadata": {
        "colab": {
          "base_uri": "https://localhost:8080/",
          "height": 35
        },
        "id": "_7xSQthVhNl8",
        "outputId": "880bdf48-14ef-4cd6-de74-a09e5e19309d"
      },
      "execution_count": 197,
      "outputs": [
        {
          "output_type": "execute_result",
          "data": {
            "text/plain": [
              "'2023-07-06T14:17:31Z'"
            ],
            "application/vnd.google.colaboratory.intrinsic+json": {
              "type": "string"
            }
          },
          "metadata": {},
          "execution_count": 197
        }
      ]
    },
    {
      "cell_type": "code",
      "source": [
        "relative_last=relative_last_temp\n",
        "print(relative_last)\n",
        "\n",
        "df_after = pd.DataFrame(data)"
      ],
      "metadata": {
        "colab": {
          "base_uri": "https://localhost:8080/"
        },
        "id": "2X-rKj77hCkc",
        "outputId": "1e1b291b-628f-429e-8cd5-e1fa30ebeeba"
      },
      "execution_count": 198,
      "outputs": [
        {
          "output_type": "stream",
          "name": "stdout",
          "text": [
            "2023-07-11T13:04:38Z\n"
          ]
        }
      ]
    },
    {
      "cell_type": "code",
      "source": [
        "# the list Data is not synchronized for the test, that's way it is normal to have a recurrent value of the last video\n",
        "df_after"
      ],
      "metadata": {
        "colab": {
          "base_uri": "https://localhost:8080/",
          "height": 452
        },
        "id": "hKy8gAcGWgbP",
        "outputId": "e4cdd5c5-9d81-40a2-c51b-395476773b6e"
      },
      "execution_count": 199,
      "outputs": [
        {
          "output_type": "execute_result",
          "data": {
            "text/plain": [
              "                                               Title  \\\n",
              "0  Learn Terraform with Google Cloud Platform – I...   \n",
              "1  Create a Programming Language and Learn Advanc...   \n",
              "2  Hot Dog or Not Hot Dog – Convolutional Neural ...   \n",
              "3                     Advanced C# Programming Course   \n",
              "4  Pandas & Python for Data Analysis by Example –...   \n",
              "5  Learn Terraform with Google Cloud Platform – I...   \n",
              "6  Create a Programming Language and Learn Advanc...   \n",
              "\n",
              "                                           url  \\\n",
              "0  https://www.youtube.com/watch?v=VCayKl82Lt8   \n",
              "1  https://www.youtube.com/watch?v=1WpKsY9LBlY   \n",
              "2  https://www.youtube.com/watch?v=nVhau51w6dM   \n",
              "3  https://www.youtube.com/watch?v=YT8s-90oDC0   \n",
              "4  https://www.youtube.com/watch?v=gtjxAH8uaP0   \n",
              "5  https://www.youtube.com/watch?v=VCayKl82Lt8   \n",
              "6  https://www.youtube.com/watch?v=1WpKsY9LBlY   \n",
              "\n",
              "                                         Description View Count Likes  \\\n",
              "0  Learn how to use Terraform and Infrastructure ...      10700   447   \n",
              "1  Make your own programming language while learn...      56118  2247   \n",
              "2  Learn about Convolutional Neural Networks in t...      38667  1312   \n",
              "3  Learn advanced C# programming concepts. This c...      93071  3813   \n",
              "4  Learn how to use Pandas and Python for Data An...      67784  2365   \n",
              "5  Learn how to use Terraform and Infrastructure ...      10700   447   \n",
              "6  Make your own programming language while learn...      56118  2247   \n",
              "\n",
              "           Published At  \n",
              "0  2023-07-11T13:04:38Z  \n",
              "1  2023-07-06T14:17:31Z  \n",
              "2  2023-07-03T14:51:42Z  \n",
              "3  2023-06-27T13:29:30Z  \n",
              "4  2023-06-21T14:28:53Z  \n",
              "5  2023-07-11T13:04:38Z  \n",
              "6  2023-07-06T14:17:31Z  "
            ],
            "text/html": [
              "\n",
              "\n",
              "  <div id=\"df-db502593-9acc-42f8-a41d-d8a844fa6a27\">\n",
              "    <div class=\"colab-df-container\">\n",
              "      <div>\n",
              "<style scoped>\n",
              "    .dataframe tbody tr th:only-of-type {\n",
              "        vertical-align: middle;\n",
              "    }\n",
              "\n",
              "    .dataframe tbody tr th {\n",
              "        vertical-align: top;\n",
              "    }\n",
              "\n",
              "    .dataframe thead th {\n",
              "        text-align: right;\n",
              "    }\n",
              "</style>\n",
              "<table border=\"1\" class=\"dataframe\">\n",
              "  <thead>\n",
              "    <tr style=\"text-align: right;\">\n",
              "      <th></th>\n",
              "      <th>Title</th>\n",
              "      <th>url</th>\n",
              "      <th>Description</th>\n",
              "      <th>View Count</th>\n",
              "      <th>Likes</th>\n",
              "      <th>Published At</th>\n",
              "    </tr>\n",
              "  </thead>\n",
              "  <tbody>\n",
              "    <tr>\n",
              "      <th>0</th>\n",
              "      <td>Learn Terraform with Google Cloud Platform – I...</td>\n",
              "      <td>https://www.youtube.com/watch?v=VCayKl82Lt8</td>\n",
              "      <td>Learn how to use Terraform and Infrastructure ...</td>\n",
              "      <td>10700</td>\n",
              "      <td>447</td>\n",
              "      <td>2023-07-11T13:04:38Z</td>\n",
              "    </tr>\n",
              "    <tr>\n",
              "      <th>1</th>\n",
              "      <td>Create a Programming Language and Learn Advanc...</td>\n",
              "      <td>https://www.youtube.com/watch?v=1WpKsY9LBlY</td>\n",
              "      <td>Make your own programming language while learn...</td>\n",
              "      <td>56118</td>\n",
              "      <td>2247</td>\n",
              "      <td>2023-07-06T14:17:31Z</td>\n",
              "    </tr>\n",
              "    <tr>\n",
              "      <th>2</th>\n",
              "      <td>Hot Dog or Not Hot Dog – Convolutional Neural ...</td>\n",
              "      <td>https://www.youtube.com/watch?v=nVhau51w6dM</td>\n",
              "      <td>Learn about Convolutional Neural Networks in t...</td>\n",
              "      <td>38667</td>\n",
              "      <td>1312</td>\n",
              "      <td>2023-07-03T14:51:42Z</td>\n",
              "    </tr>\n",
              "    <tr>\n",
              "      <th>3</th>\n",
              "      <td>Advanced C# Programming Course</td>\n",
              "      <td>https://www.youtube.com/watch?v=YT8s-90oDC0</td>\n",
              "      <td>Learn advanced C# programming concepts. This c...</td>\n",
              "      <td>93071</td>\n",
              "      <td>3813</td>\n",
              "      <td>2023-06-27T13:29:30Z</td>\n",
              "    </tr>\n",
              "    <tr>\n",
              "      <th>4</th>\n",
              "      <td>Pandas &amp; Python for Data Analysis by Example –...</td>\n",
              "      <td>https://www.youtube.com/watch?v=gtjxAH8uaP0</td>\n",
              "      <td>Learn how to use Pandas and Python for Data An...</td>\n",
              "      <td>67784</td>\n",
              "      <td>2365</td>\n",
              "      <td>2023-06-21T14:28:53Z</td>\n",
              "    </tr>\n",
              "    <tr>\n",
              "      <th>5</th>\n",
              "      <td>Learn Terraform with Google Cloud Platform – I...</td>\n",
              "      <td>https://www.youtube.com/watch?v=VCayKl82Lt8</td>\n",
              "      <td>Learn how to use Terraform and Infrastructure ...</td>\n",
              "      <td>10700</td>\n",
              "      <td>447</td>\n",
              "      <td>2023-07-11T13:04:38Z</td>\n",
              "    </tr>\n",
              "    <tr>\n",
              "      <th>6</th>\n",
              "      <td>Create a Programming Language and Learn Advanc...</td>\n",
              "      <td>https://www.youtube.com/watch?v=1WpKsY9LBlY</td>\n",
              "      <td>Make your own programming language while learn...</td>\n",
              "      <td>56118</td>\n",
              "      <td>2247</td>\n",
              "      <td>2023-07-06T14:17:31Z</td>\n",
              "    </tr>\n",
              "  </tbody>\n",
              "</table>\n",
              "</div>\n",
              "      <button class=\"colab-df-convert\" onclick=\"convertToInteractive('df-db502593-9acc-42f8-a41d-d8a844fa6a27')\"\n",
              "              title=\"Convert this dataframe to an interactive table.\"\n",
              "              style=\"display:none;\">\n",
              "\n",
              "  <svg xmlns=\"http://www.w3.org/2000/svg\" height=\"24px\"viewBox=\"0 0 24 24\"\n",
              "       width=\"24px\">\n",
              "    <path d=\"M0 0h24v24H0V0z\" fill=\"none\"/>\n",
              "    <path d=\"M18.56 5.44l.94 2.06.94-2.06 2.06-.94-2.06-.94-.94-2.06-.94 2.06-2.06.94zm-11 1L8.5 8.5l.94-2.06 2.06-.94-2.06-.94L8.5 2.5l-.94 2.06-2.06.94zm10 10l.94 2.06.94-2.06 2.06-.94-2.06-.94-.94-2.06-.94 2.06-2.06.94z\"/><path d=\"M17.41 7.96l-1.37-1.37c-.4-.4-.92-.59-1.43-.59-.52 0-1.04.2-1.43.59L10.3 9.45l-7.72 7.72c-.78.78-.78 2.05 0 2.83L4 21.41c.39.39.9.59 1.41.59.51 0 1.02-.2 1.41-.59l7.78-7.78 2.81-2.81c.8-.78.8-2.07 0-2.86zM5.41 20L4 18.59l7.72-7.72 1.47 1.35L5.41 20z\"/>\n",
              "  </svg>\n",
              "      </button>\n",
              "\n",
              "\n",
              "\n",
              "    <div id=\"df-c1d3c178-1f2b-4b11-9713-54f6b7b53878\">\n",
              "      <button class=\"colab-df-quickchart\" onclick=\"quickchart('df-c1d3c178-1f2b-4b11-9713-54f6b7b53878')\"\n",
              "              title=\"Suggest charts.\"\n",
              "              style=\"display:none;\">\n",
              "\n",
              "<svg xmlns=\"http://www.w3.org/2000/svg\" height=\"24px\"viewBox=\"0 0 24 24\"\n",
              "     width=\"24px\">\n",
              "    <g>\n",
              "        <path d=\"M19 3H5c-1.1 0-2 .9-2 2v14c0 1.1.9 2 2 2h14c1.1 0 2-.9 2-2V5c0-1.1-.9-2-2-2zM9 17H7v-7h2v7zm4 0h-2V7h2v10zm4 0h-2v-4h2v4z\"/>\n",
              "    </g>\n",
              "</svg>\n",
              "      </button>\n",
              "    </div>\n",
              "\n",
              "<style>\n",
              "  .colab-df-quickchart {\n",
              "    background-color: #E8F0FE;\n",
              "    border: none;\n",
              "    border-radius: 50%;\n",
              "    cursor: pointer;\n",
              "    display: none;\n",
              "    fill: #1967D2;\n",
              "    height: 32px;\n",
              "    padding: 0 0 0 0;\n",
              "    width: 32px;\n",
              "  }\n",
              "\n",
              "  .colab-df-quickchart:hover {\n",
              "    background-color: #E2EBFA;\n",
              "    box-shadow: 0px 1px 2px rgba(60, 64, 67, 0.3), 0px 1px 3px 1px rgba(60, 64, 67, 0.15);\n",
              "    fill: #174EA6;\n",
              "  }\n",
              "\n",
              "  [theme=dark] .colab-df-quickchart {\n",
              "    background-color: #3B4455;\n",
              "    fill: #D2E3FC;\n",
              "  }\n",
              "\n",
              "  [theme=dark] .colab-df-quickchart:hover {\n",
              "    background-color: #434B5C;\n",
              "    box-shadow: 0px 1px 3px 1px rgba(0, 0, 0, 0.15);\n",
              "    filter: drop-shadow(0px 1px 2px rgba(0, 0, 0, 0.3));\n",
              "    fill: #FFFFFF;\n",
              "  }\n",
              "</style>\n",
              "\n",
              "    <script>\n",
              "      async function quickchart(key) {\n",
              "        const containerElement = document.querySelector('#' + key);\n",
              "        const charts = await google.colab.kernel.invokeFunction(\n",
              "            'suggestCharts', [key], {});\n",
              "      }\n",
              "    </script>\n",
              "\n",
              "      <script>\n",
              "\n",
              "function displayQuickchartButton(domScope) {\n",
              "  let quickchartButtonEl =\n",
              "    domScope.querySelector('#df-c1d3c178-1f2b-4b11-9713-54f6b7b53878 button.colab-df-quickchart');\n",
              "  quickchartButtonEl.style.display =\n",
              "    google.colab.kernel.accessAllowed ? 'block' : 'none';\n",
              "}\n",
              "\n",
              "        displayQuickchartButton(document);\n",
              "      </script>\n",
              "      <style>\n",
              "    .colab-df-container {\n",
              "      display:flex;\n",
              "      flex-wrap:wrap;\n",
              "      gap: 12px;\n",
              "    }\n",
              "\n",
              "    .colab-df-convert {\n",
              "      background-color: #E8F0FE;\n",
              "      border: none;\n",
              "      border-radius: 50%;\n",
              "      cursor: pointer;\n",
              "      display: none;\n",
              "      fill: #1967D2;\n",
              "      height: 32px;\n",
              "      padding: 0 0 0 0;\n",
              "      width: 32px;\n",
              "    }\n",
              "\n",
              "    .colab-df-convert:hover {\n",
              "      background-color: #E2EBFA;\n",
              "      box-shadow: 0px 1px 2px rgba(60, 64, 67, 0.3), 0px 1px 3px 1px rgba(60, 64, 67, 0.15);\n",
              "      fill: #174EA6;\n",
              "    }\n",
              "\n",
              "    [theme=dark] .colab-df-convert {\n",
              "      background-color: #3B4455;\n",
              "      fill: #D2E3FC;\n",
              "    }\n",
              "\n",
              "    [theme=dark] .colab-df-convert:hover {\n",
              "      background-color: #434B5C;\n",
              "      box-shadow: 0px 1px 3px 1px rgba(0, 0, 0, 0.15);\n",
              "      filter: drop-shadow(0px 1px 2px rgba(0, 0, 0, 0.3));\n",
              "      fill: #FFFFFF;\n",
              "    }\n",
              "  </style>\n",
              "\n",
              "      <script>\n",
              "        const buttonEl =\n",
              "          document.querySelector('#df-db502593-9acc-42f8-a41d-d8a844fa6a27 button.colab-df-convert');\n",
              "        buttonEl.style.display =\n",
              "          google.colab.kernel.accessAllowed ? 'block' : 'none';\n",
              "\n",
              "        async function convertToInteractive(key) {\n",
              "          const element = document.querySelector('#df-db502593-9acc-42f8-a41d-d8a844fa6a27');\n",
              "          const dataTable =\n",
              "            await google.colab.kernel.invokeFunction('convertToInteractive',\n",
              "                                                     [key], {});\n",
              "          if (!dataTable) return;\n",
              "\n",
              "          const docLinkHtml = 'Like what you see? Visit the ' +\n",
              "            '<a target=\"_blank\" href=https://colab.research.google.com/notebooks/data_table.ipynb>data table notebook</a>'\n",
              "            + ' to learn more about interactive tables.';\n",
              "          element.innerHTML = '';\n",
              "          dataTable['output_type'] = 'display_data';\n",
              "          await google.colab.output.renderOutput(dataTable, element);\n",
              "          const docLink = document.createElement('div');\n",
              "          docLink.innerHTML = docLinkHtml;\n",
              "          element.appendChild(docLink);\n",
              "        }\n",
              "      </script>\n",
              "    </div>\n",
              "  </div>\n"
            ]
          },
          "metadata": {},
          "execution_count": 199
        }
      ]
    },
    {
      "cell_type": "code",
      "source": [
        "df_after.to_csv('channel_data.csv',index=False)"
      ],
      "metadata": {
        "id": "HFIXFLckjkq0"
      },
      "execution_count": 200,
      "outputs": []
    }
  ]
}